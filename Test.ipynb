{
 "cells": [
  {
   "cell_type": "code",
   "execution_count": null,
   "id": "332fd46d",
   "metadata": {
    "vscode": {
     "languageId": "plaintext"
    }
   },
   "outputs": [],
   "source": [
    "print(\"1111\")"
   ]
  },
  {
   "cell_type": "code",
   "execution_count": null,
   "id": "34196d24",
   "metadata": {
    "vscode": {
     "languageId": "plaintext"
    }
   },
   "outputs": [],
   "source": [
    "a = 0"
   ]
  }
 ],
 "metadata": {
  "language_info": {
   "name": "python"
  }
 },
 "nbformat": 4,
 "nbformat_minor": 5
}
